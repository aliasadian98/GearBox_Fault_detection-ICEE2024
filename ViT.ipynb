{
 "cells": [
  {
   "cell_type": "markdown",
   "metadata": {},
   "source": [
    "### Import Libraries"
   ]
  },
  {
   "cell_type": "code",
   "execution_count": 1,
   "metadata": {},
   "outputs": [
    {
     "name": "stderr",
     "output_type": "stream",
     "text": [
      "100%|██████████| 7884/7884 [00:26<00:00, 297.90it/s]\n"
     ]
    }
   ],
   "source": [
    "import utils\n",
    "utils.set_seed(utils.seed)\n",
    "\n",
    "import dataloaders"
   ]
  },
  {
   "cell_type": "code",
   "execution_count": 2,
   "metadata": {},
   "outputs": [],
   "source": [
    "import  nets\n",
    "import  deeplearning\n",
    "import  torch\n",
    "import  torch.nn                as  nn          # basic building block for neural networks\n",
    "import  matplotlib.pyplot       as  plt         # for plotting\n",
    "import  numpy                   as  np            \n",
    "from    tqdm                    import  tqdm\n",
    "from    sklearn.metrics         import  accuracy_score                          "
   ]
  },
  {
   "cell_type": "code",
   "execution_count": 3,
   "metadata": {},
   "outputs": [],
   "source": [
    "model = nets.VisionTransformer(\n",
    "                                    img_size        =   utils.input_image_size,\n",
    "                                    patch_size      =   utils.patch_size,\n",
    "                                    in_chans        =   utils.in_chanel,\n",
    "                                    n_classes       =   utils.num_classes,  \n",
    "                                    embed_dim       =   utils.embed_dim,\n",
    "                                    depth           =   utils.depth,\n",
    "                                    n_heads         =   utils.n_heads,\n",
    "                                    mlp_ratio       =   4.0,\n",
    "                                    qkv_bias        =   True,\n",
    "                                    p               =   utils.p,\n",
    "                                    attn_p          =   utils.attention_p\n",
    "                                ).to(utils.device)\n",
    "\n",
    "optimizer = torch.optim.AdamW(model.parameters(),\n",
    "                              lr=utils.learning_rate,\n",
    "                              betas=(0.9, 0.999),\n",
    "                              eps=1e-08,\n",
    "                              weight_decay=utils.weight_decay,)\n",
    "criterion = nn.BCELoss() \n"
   ]
  },
  {
   "cell_type": "code",
   "execution_count": 9,
   "metadata": {},
   "outputs": [],
   "source": [
    "# immg = next(iter(dataloaders.train_loader))[0][0]\n",
    "\n",
    "# Plot tensors in a 4x4 grid\n",
    "fig, axes = plt.subplots(4, 4, figsize=(10, 10))\n",
    "\n",
    "for i, batch in enumerate(dataloaders.train_loader):\n",
    "    for j, tensor in enumerate(batch):\n",
    "        if i * 16 + j < 16:\n",
    "            # Convert tensor to NumPy array for plotting\n",
    "            image_array = tensor.permute(1, 2, 0).cpu().numpy()  # Assuming CHW format, adjust if needed\n",
    "            axes[i, j].imshow(image_array)\n",
    "            axes[i, j].axis('off')\n",
    "\n",
    "plt.show()\n"
   ]
  },
  {
   "cell_type": "markdown",
   "metadata": {},
   "source": [
    "### Train Model"
   ]
  },
  {
   "cell_type": "code",
   "execution_count": 10,
   "metadata": {},
   "outputs": [
    {
     "name": "stderr",
     "output_type": "stream",
     "text": [
      "Train - iteration : 1: 100%|██████████| 173/173 [01:15<00:00,  2.28it/s, accuracy_train=0.8996, avg_train_loss_till_current_batch=0.1993, loss_batch=0.0028]\n",
      "val - iteration : 1: 100%|██████████| 37/37 [00:06<00:00,  5.78it/s, accuracy_val=0.9738, avg_val_loss_till_current_batch=0.1044, loss_batch=0.0022]\n",
      "Train - iteration : 2: 100%|██████████| 173/173 [01:07<00:00,  2.57it/s, accuracy_train=0.9926, avg_train_loss_till_current_batch=0.0273, loss_batch=0.0005]\n",
      "val - iteration : 2: 100%|██████████| 37/37 [00:06<00:00,  5.92it/s, accuracy_val=0.9890, avg_val_loss_till_current_batch=0.0454, loss_batch=0.0008]\n",
      "Train - iteration : 3: 100%|██████████| 173/173 [01:07<00:00,  2.58it/s, accuracy_train=0.9971, avg_train_loss_till_current_batch=0.0107, loss_batch=0.1940]\n",
      "val - iteration : 3: 100%|██████████| 37/37 [00:06<00:00,  5.95it/s, accuracy_val=0.9890, avg_val_loss_till_current_batch=0.0293, loss_batch=0.0094]\n",
      "Train - iteration : 4: 100%|██████████| 173/173 [01:07<00:00,  2.57it/s, accuracy_train=0.9974, avg_train_loss_till_current_batch=0.0088, loss_batch=0.3395]\n",
      "val - iteration : 4: 100%|██████████| 37/37 [00:06<00:00,  6.12it/s, accuracy_val=0.9179, avg_val_loss_till_current_batch=0.2315, loss_batch=0.3802]\n",
      "Train - iteration : 5: 100%|██████████| 173/173 [01:07<00:00,  2.57it/s, accuracy_train=0.9986, avg_train_loss_till_current_batch=0.0032, loss_batch=0.0001]\n",
      "val - iteration : 5: 100%|██████████| 37/37 [00:06<00:00,  5.60it/s, accuracy_val=0.9890, avg_val_loss_till_current_batch=0.0400, loss_batch=0.0001]\n",
      "Train - iteration : 6: 100%|██████████| 173/173 [01:08<00:00,  2.52it/s, accuracy_train=0.9854, avg_train_loss_till_current_batch=0.0574, loss_batch=0.0010]\n",
      "val - iteration : 6: 100%|██████████| 37/37 [00:05<00:00,  6.20it/s, accuracy_val=0.9704, avg_val_loss_till_current_batch=0.0955, loss_batch=0.0158]\n",
      "Train - iteration : 7: 100%|██████████| 173/173 [01:07<00:00,  2.56it/s, accuracy_train=0.9972, avg_train_loss_till_current_batch=0.0087, loss_batch=0.1174]\n",
      "val - iteration : 7: 100%|██████████| 37/37 [00:06<00:00,  5.49it/s, accuracy_val=0.9890, avg_val_loss_till_current_batch=0.0270, loss_batch=0.0328]\n",
      "Train - iteration : 8: 100%|██████████| 173/173 [01:21<00:00,  2.13it/s, accuracy_train=0.9986, avg_train_loss_till_current_batch=0.0038, loss_batch=0.0002]\n",
      "val - iteration : 8: 100%|██████████| 37/37 [00:08<00:00,  4.36it/s, accuracy_val=0.9907, avg_val_loss_till_current_batch=0.0397, loss_batch=0.1493]\n",
      "Train - iteration : 9: 100%|██████████| 173/173 [02:38<00:00,  1.09it/s, accuracy_train=0.9967, avg_train_loss_till_current_batch=0.0092, loss_batch=0.0004]\n",
      "val - iteration : 9: 100%|██████████| 37/37 [00:27<00:00,  1.35it/s, accuracy_val=0.9806, avg_val_loss_till_current_batch=0.0961, loss_batch=0.0001]\n",
      "Train - iteration : 10: 100%|██████████| 173/173 [02:54<00:00,  1.01s/it, accuracy_train=0.9962, avg_train_loss_till_current_batch=0.0122, loss_batch=0.0002]\n",
      "val - iteration : 10: 100%|██████████| 37/37 [00:23<00:00,  1.56it/s, accuracy_val=0.9831, avg_val_loss_till_current_batch=0.0564, loss_batch=0.0080]\n",
      "Train - iteration : 11: 100%|██████████| 173/173 [02:34<00:00,  1.12it/s, accuracy_train=0.9986, avg_train_loss_till_current_batch=0.0041, loss_batch=0.0001]\n",
      "val - iteration : 11: 100%|██████████| 37/37 [00:23<00:00,  1.61it/s, accuracy_val=0.9856, avg_val_loss_till_current_batch=0.0466, loss_batch=0.0036]\n",
      "Train - iteration : 12: 100%|██████████| 173/173 [02:33<00:00,  1.13it/s, accuracy_train=0.9998, avg_train_loss_till_current_batch=0.0018, loss_batch=0.0001]\n",
      "val - iteration : 12: 100%|██████████| 37/37 [00:21<00:00,  1.71it/s, accuracy_val=0.9899, avg_val_loss_till_current_batch=0.0442, loss_batch=0.0005]\n",
      "Train - iteration : 13: 100%|██████████| 173/173 [02:45<00:00,  1.05it/s, accuracy_train=1.0000, avg_train_loss_till_current_batch=0.0001, loss_batch=0.0000]\n",
      "val - iteration : 13: 100%|██████████| 37/37 [00:22<00:00,  1.63it/s, accuracy_val=0.9890, avg_val_loss_till_current_batch=0.0416, loss_batch=0.0001]\n",
      "Train - iteration : 14: 100%|██████████| 173/173 [02:43<00:00,  1.06it/s, accuracy_train=1.0000, avg_train_loss_till_current_batch=0.0001, loss_batch=0.0000]\n",
      "val - iteration : 14: 100%|██████████| 37/37 [00:20<00:00,  1.82it/s, accuracy_val=0.9882, avg_val_loss_till_current_batch=0.0502, loss_batch=0.0001]\n",
      "Train - iteration : 15: 100%|██████████| 173/173 [02:42<00:00,  1.06it/s, accuracy_train=1.0000, avg_train_loss_till_current_batch=0.0000, loss_batch=0.0000]\n",
      "val - iteration : 15: 100%|██████████| 37/37 [00:21<00:00,  1.69it/s, accuracy_val=0.9882, avg_val_loss_till_current_batch=0.0503, loss_batch=0.0000]\n",
      "100%|██████████| 15/15 [35:16<00:00, 141.09s/it]\n"
     ]
    }
   ],
   "source": [
    "model, optimizer, report = deeplearning.train(\n",
    "                                                test_ealuate    = False,\n",
    "                                                train_loader    = dataloaders.train_loader,\n",
    "                                                val_loader      = dataloaders.val_loader,\n",
    "                                                tets_loader     = None,\n",
    "                                                model       = model,\n",
    "                                                model_name  = f\"n_heads={utils.n_heads}_depth={utils.depth}_learning_rate={utils.learning_rate}_weight_decay={utils.weight_decay}_embed_dim={utils.embed_dim}\",\n",
    "                                                \n",
    "                                                epochs          = utils.num_epochs,#utils.num_epochs,\n",
    "                                                device          = utils.device,\n",
    "                                                load_saved_model= False,\n",
    "                                                ckpt_save_freq  = utils.ckpt_save_freq,\n",
    "                                                ckpt_save_path  = r'./model/checkpoint',\n",
    "                                                ckpt_path       = r'./model/',\n",
    "                                                report_path     = r'./model/',\n",
    "\n",
    "                                                optimizer       = optimizer,\n",
    "                                                criterion       = criterion,\n",
    "\n",
    "                                                lr_schedulerr_setting =60,\n",
    "                                                lr_schedulerr  = None,\n",
    "                                                validation_threshold = 0.98\n",
    "                                                )\n"
   ]
  },
  {
   "cell_type": "code",
   "execution_count": 11,
   "metadata": {},
   "outputs": [
    {
     "data": {
      "text/plain": [
       "VisionTransformer(\n",
       "  (patch_embed): PatchEmbed(\n",
       "    (proj): Conv2d(3, 192, kernel_size=(7, 7), stride=(7, 7))\n",
       "  )\n",
       "  (pos_drop): Dropout(p=0.1, inplace=False)\n",
       "  (blocks): ModuleList(\n",
       "    (0): Block(\n",
       "      (norm1): LayerNorm((192,), eps=1e-06, elementwise_affine=True)\n",
       "      (attn): Attention(\n",
       "        (qkv): Linear(in_features=192, out_features=576, bias=True)\n",
       "        (attn_drop): Dropout(p=0.1, inplace=False)\n",
       "        (proj): Linear(in_features=192, out_features=192, bias=True)\n",
       "        (proj_drop): Dropout(p=0.1, inplace=False)\n",
       "      )\n",
       "      (norm2): LayerNorm((192,), eps=1e-06, elementwise_affine=True)\n",
       "      (mlp): MLP(\n",
       "        (fc1): Linear(in_features=192, out_features=768, bias=True)\n",
       "        (act): GELU(approximate='none')\n",
       "        (fc2): Linear(in_features=768, out_features=192, bias=True)\n",
       "        (drop): Dropout(p=0.1, inplace=False)\n",
       "      )\n",
       "    )\n",
       "  )\n",
       "  (norm): LayerNorm((192,), eps=1e-06, elementwise_affine=True)\n",
       "  (head): Sequential(\n",
       "    (0): Linear(in_features=192, out_features=38, bias=True)\n",
       "    (1): ReLU()\n",
       "    (2): Linear(in_features=38, out_features=19, bias=True)\n",
       "    (3): ReLU()\n",
       "    (4): Linear(in_features=19, out_features=1, bias=True)\n",
       "  )\n",
       "  (activate): Sigmoid()\n",
       ")"
      ]
     },
     "execution_count": 11,
     "metadata": {},
     "output_type": "execute_result"
    }
   ],
   "source": [
    "model .load_state_dict(torch.load(r'.\\model\\n_heads=12_depth=1_learning_rate=0.001_weight_decay=0.03_embed_dim=192_valid_acc 0.9906531531531532.pt'))\n",
    "model.eval()"
   ]
  },
  {
   "cell_type": "code",
   "execution_count": 12,
   "metadata": {},
   "outputs": [
    {
     "name": "stderr",
     "output_type": "stream",
     "text": [
      "                                                                "
     ]
    },
    {
     "name": "stdout",
     "output_type": "stream",
     "text": [
      "Test Accuracy = [0.9603040540540541]\n",
      "Test Loss = [0.2320260503692152]\n"
     ]
    },
    {
     "name": "stderr",
     "output_type": "stream",
     "text": [
      "\r"
     ]
    }
   ],
   "source": [
    "test_loss = 0.0\n",
    "y_true_test = []\n",
    "y_pred_test = []\n",
    "test_accuracy = []\n",
    "test_losses = []\n",
    "\n",
    "device = 'cuda'\n",
    "model = model.cuda()\n",
    "with torch.inference_mode():\n",
    "        for batch in tqdm(dataloaders.test_loader, desc=f\"testing dataset\", leave=False):\n",
    "                x, y = batch\n",
    "                x, y = x.to(device), y.to(device)\n",
    "                y_hat = model(x).squeeze(1)\n",
    "                \n",
    "\n",
    "                # Ensure that the data type (dtype) matches the device\n",
    "                y, y_hat = y.to(device), y_hat.to(device, dtype=torch.float)\n",
    "\n",
    "                loss = criterion(y_hat.float(), y.float())\n",
    "\n",
    "                test_loss += loss.detach().cpu().item() / len(dataloaders.test_loader)\n",
    "\n",
    "                # Calculate testing accuracy\n",
    "                y_true_test.extend(y.detach().cpu().numpy())\n",
    "                y_pred_test.extend(torch.round(y_hat).detach().cpu().numpy())\n",
    "\n",
    "        test_acc = accuracy_score(y_true_test, y_pred_test)\n",
    "        test_accuracy.append(test_acc)\n",
    "        test_losses.append(test_loss)    \n",
    "\n",
    "print(f\"Test Accuracy = {test_accuracy}\")\n",
    "print(f\"Test Loss = {test_losses}\")"
   ]
  },
  {
   "cell_type": "markdown",
   "metadata": {},
   "source": [
    "### Show Sample Images"
   ]
  },
  {
   "cell_type": "code",
   "execution_count": null,
   "metadata": {},
   "outputs": [],
   "source": [
    "# import matplotlib.pyplot as plt\n",
    "# import numpy as np\n",
    "\n",
    "# # Define a dictionary to map class indices to class names\n",
    "# class_names = dataloaders.dataset.classes\n",
    "# class_to_idx = dataloaders.dataset.class_to_idx\n",
    "# idx_to_class = {v: k for k, v in class_to_idx.items()}\n",
    "\n",
    "# # Function to show random images with labels\n",
    "# def show_random_images(loader, num_images=4):\n",
    "#     data_iter = iter(loader)\n",
    "#     fig, axes = plt.subplots(1, num_images, figsize=(15, 3))\n",
    "\n",
    "#     for i in range(num_images):\n",
    "#         images, labels = next(data_iter)\n",
    "#         ax = axes[i]\n",
    "\n",
    "#         # Choose a random image from the batch\n",
    "#         idx = np.random.randint(0, len(images))\n",
    "#         image = images[idx].numpy().transpose((1, 2, 0))\n",
    "#         label = class_names[labels[idx].item()]\n",
    "\n",
    "#         ax.imshow(image)\n",
    "#         ax.set_title(label)\n",
    "#         ax.axis('off')\n",
    "\n",
    "#     plt.show()\n",
    "\n",
    "# # Show random images from the training dataset\n",
    "# show_random_images(dataloaders.train_loader)"
   ]
  },
  {
   "cell_type": "markdown",
   "metadata": {},
   "source": [
    "### Test Model"
   ]
  },
  {
   "cell_type": "code",
   "execution_count": null,
   "metadata": {},
   "outputs": [
    {
     "data": {
      "text/plain": [
       "VisionTransformer(\n",
       "  (patch_embed): PatchEmbed(\n",
       "    (proj): Conv2d(3, 192, kernel_size=(7, 7), stride=(7, 7))\n",
       "  )\n",
       "  (pos_drop): Dropout(p=0.1, inplace=False)\n",
       "  (blocks): ModuleList(\n",
       "    (0): Block(\n",
       "      (norm1): LayerNorm((192,), eps=1e-06, elementwise_affine=True)\n",
       "      (attn): Attention(\n",
       "        (qkv): Linear(in_features=192, out_features=576, bias=True)\n",
       "        (attn_drop): Dropout(p=0.1, inplace=False)\n",
       "        (proj): Linear(in_features=192, out_features=192, bias=True)\n",
       "        (proj_drop): Dropout(p=0.1, inplace=False)\n",
       "      )\n",
       "      (norm2): LayerNorm((192,), eps=1e-06, elementwise_affine=True)\n",
       "      (mlp): MLP(\n",
       "        (fc1): Linear(in_features=192, out_features=768, bias=True)\n",
       "        (act): GELU(approximate='none')\n",
       "        (fc2): Linear(in_features=768, out_features=192, bias=True)\n",
       "        (drop): Dropout(p=0.1, inplace=False)\n",
       "      )\n",
       "    )\n",
       "  )\n",
       "  (norm): LayerNorm((192,), eps=1e-06, elementwise_affine=True)\n",
       "  (head): Sequential(\n",
       "    (0): Linear(in_features=192, out_features=38, bias=True)\n",
       "    (1): ReLU(inplace=True)\n",
       "    (2): Linear(in_features=38, out_features=19, bias=True)\n",
       "    (3): ReLU(inplace=True)\n",
       "    (4): Linear(in_features=19, out_features=1, bias=True)\n",
       "  )\n",
       "  (activate): Sigmoid()\n",
       ")"
      ]
     },
     "execution_count": 6,
     "metadata": {},
     "output_type": "execute_result"
    }
   ],
   "source": [
    "model = nets.VisionTransformer(\n",
    "                                    img_size=224,\n",
    "                                    patch_size=7,\n",
    "                                    in_chans=3,\n",
    "                                    n_classes=2,  # Assuming 2 classes (Healthy and Damaged)\n",
    "                                    embed_dim=384//2,\n",
    "                                    depth=1,\n",
    "                                    n_heads=8,\n",
    "                                    mlp_ratio=4.0,\n",
    "                                    qkv_bias=True,\n",
    "                                    p=0.1,\n",
    "                                    attn_p=0.1\n",
    "                                )\n",
    "model .load_state_dict(torch.load(r'.\\model\\ViT_L1_learning_rate=0.001_weight_decay=0.03_valid_acc 1.0.pt'))\n",
    "model.eval()"
   ]
  },
  {
   "cell_type": "code",
   "execution_count": null,
   "metadata": {},
   "outputs": [],
   "source": [
    "vv = torch.zeros(size=[1,3,224,224])\n",
    "vv[0,:,28:28*2,:]=1"
   ]
  },
  {
   "cell_type": "code",
   "execution_count": null,
   "metadata": {},
   "outputs": [],
   "source": [
    "import torch\n",
    "import torchvision.transforms as transforms\n",
    "from PIL import Image\n",
    "\n",
    "# Create a sample PyTorch tensor (replace this with your own tensor)\n",
    "tensor_data = torch.rand(1, 256, 256)  # Assuming a 3-channel image with dimensions 256x256\n",
    "\n",
    "# Convert PyTorch tensor to a PIL Image\n",
    "tensor_to_pil = transforms.ToPILImage()\n",
    "# image = tensor_to_pil((vv[0]))\n",
    "image = tensor_to_pil(model.patch_embed(vv))\n",
    "\n",
    "\n",
    "# Save the image (optional)\n",
    "image.save(\"output_image.png\")\n",
    "\n",
    "# Display the image (optional)\n",
    "image.show()\n"
   ]
  },
  {
   "cell_type": "code",
   "execution_count": null,
   "metadata": {},
   "outputs": [
    {
     "name": "stderr",
     "output_type": "stream",
     "text": [
      "No artists with labels found to put in legend.  Note that artists whose label start with an underscore are ignored when legend() is called with no argument.\n"
     ]
    }
   ],
   "source": [
    "import matplotlib.pyplot as plt\n",
    "import torch\n",
    "import numpy as np\n",
    "\n",
    "def save_tensor_to_svg(tensor, file_path, cmap='gray'):\n",
    "    \"\"\"\n",
    "    Save a 2D tensor as an SVG file using matplotlib.\n",
    "\n",
    "    Parameters:\n",
    "    - tensor (torch.Tensor): Input 2D tensor\n",
    "    - file_path (str): Path to save the SVG file\n",
    "    - cmap (str, optional): Colormap for the plot. Default is 'viridis'.\n",
    "    \"\"\"\n",
    "    # Convert tensor to NumPy array\n",
    "    array_data = tensor.detach().cpu().numpy() if torch.is_tensor(tensor) else tensor\n",
    "\n",
    "    # Create a figure and axis\n",
    "    fig, ax = plt.subplots()\n",
    "\n",
    "    # Display the array as an image with the specified colormap\n",
    "    im = ax.imshow(array_data, cmap=cmap)\n",
    "\n",
    "    # # Add colorbar for better interpretation (optional)\n",
    "    # cbar = plt.colorbar(im)\n",
    "    # # Hide colorbar if show_colorbar is False\n",
    "    # if not show_colorbar:\n",
    "    #     plt.colorbar(im).remove()\n",
    "    \n",
    "    # Hide the legend\n",
    "    ax.legend().set_visible(False)\n",
    "\n",
    "    # Hide axis numbers\n",
    "    ax.set_xticks([])\n",
    "    ax.set_yticks([])\n",
    "\n",
    "    \n",
    "\n",
    "    # Save the figure as an SVG file\n",
    "    plt.savefig(file_path, format='pdf', dpi=1600)\n",
    "\n",
    "    # Close the figure to free up resources\n",
    "    plt.close()\n",
    "\n",
    "# Example usage:\n",
    "# Create a random 2D tensor (replace this with your own tensor)\n",
    "random_tensor = torch.rand((10, 10))\n",
    "\n",
    "# Save the tensor as an SVG file\n",
    "save_tensor_to_svg(model.patch_embed(vv)[0], 'after patch.pdf')\n"
   ]
  },
  {
   "cell_type": "code",
   "execution_count": null,
   "metadata": {},
   "outputs": [
    {
     "data": {
      "image/png": "[encoded data removed]",
      "text/plain": [
       "<Figure size 432x288 with 1 Axes>"
      ]
     },
     "metadata": {},
     "output_type": "display_data"
    }
   ],
   "source": [
    "import seaborn              as      sns; sns.set()\n",
    "import  matplotlib.pyplot   as      plt\n",
    "from    matplotlib          import  font_manager as fm, rcParams\n",
    "\n",
    "model(next(iter(dataloaders.test_loader))[0]).shape\n",
    "\n",
    "Heatmap = sns.heatmap(model.blocks[0].attn.attn[0,0,:10,:10].detach().numpy(),\n",
    "                    annot=False,\n",
    "                    square=True,\n",
    "                    # xticklabels=tokens,\n",
    "                    # yticklabels=tokens,\n",
    "                    cbar=False,\n",
    "                    )"
   ]
  },
  {
   "cell_type": "code",
   "execution_count": null,
   "metadata": {},
   "outputs": [
    {
     "data": {
      "text/plain": [
       "VisionTransformer(\n",
       "  (patch_embed): PatchEmbed(\n",
       "    (proj): Conv2d(3, 384, kernel_size=(7, 7), stride=(7, 7))\n",
       "  )\n",
       "  (pos_drop): Dropout(p=0.1, inplace=False)\n",
       "  (blocks): ModuleList(\n",
       "    (0): Block(\n",
       "      (norm1): LayerNorm((384,), eps=1e-06, elementwise_affine=True)\n",
       "      (attn): Attention(\n",
       "        (qkv): Linear(in_features=384, out_features=1152, bias=True)\n",
       "        (attn_drop): Dropout(p=0.1, inplace=False)\n",
       "        (proj): Linear(in_features=384, out_features=384, bias=True)\n",
       "        (proj_drop): Dropout(p=0.1, inplace=False)\n",
       "      )\n",
       "      (norm2): LayerNorm((384,), eps=1e-06, elementwise_affine=True)\n",
       "      (mlp): MLP(\n",
       "        (fc1): Linear(in_features=384, out_features=1536, bias=True)\n",
       "        (act): GELU(approximate='none')\n",
       "        (fc2): Linear(in_features=1536, out_features=384, bias=True)\n",
       "        (drop): Dropout(p=0.1, inplace=False)\n",
       "      )\n",
       "    )\n",
       "  )\n",
       "  (norm): LayerNorm((384,), eps=1e-06, elementwise_affine=True)\n",
       "  (head): Sequential(\n",
       "    (0): Linear(in_features=384, out_features=76, bias=True)\n",
       "    (1): ReLU()\n",
       "    (2): Linear(in_features=76, out_features=38, bias=True)\n",
       "    (3): ReLU()\n",
       "    (4): Linear(in_features=38, out_features=1, bias=True)\n",
       "  )\n",
       "  (activate): Sigmoid()\n",
       ")"
      ]
     },
     "execution_count": 9,
     "metadata": {},
     "output_type": "execute_result"
    }
   ],
   "source": [
    "model = nets.VisionTransformer(\n",
    "                                    img_size=224,\n",
    "                                    patch_size=7,\n",
    "                                    in_chans=3,\n",
    "                                    n_classes=2,  # Assuming 2 classes (Healthy and Damaged)\n",
    "                                    embed_dim=384,\n",
    "                                    depth=1,\n",
    "                                    n_heads=8,\n",
    "                                    mlp_ratio=4.0,\n",
    "                                    qkv_bias=True,\n",
    "                                    p=0.1,\n",
    "                                    attn_p=0.1\n",
    "                                )\n",
    "model .load_state_dict(torch.load(r'.\\model\\ViT_L1_learning_rate=0.001_weight_decay=0.03_valid_acc 1.0.pt'))\n",
    "model.eval()"
   ]
  },
  {
   "cell_type": "markdown",
   "metadata": {},
   "source": [
    "### Plot Loss & Accuracy"
   ]
  },
  {
   "cell_type": "code",
   "execution_count": null,
   "metadata": {},
   "outputs": [],
   "source": [
    "epochs = range(1, num_epochs + 1)\n",
    "\n",
    "# Plot the training and testing accuracy\n",
    "plt.figure(figsize=(10, 5))\n",
    "plt.plot(epochs, train_accuracy, label='Training Accuracy')\n",
    "#plt.plot(epochs, test_accuracy, label='Testing Accuracy')\n",
    "plt.xticks(epochs)\n",
    "plt.xlabel('Epoch')\n",
    "plt.ylabel('Accuracy')\n",
    "plt.legend()\n",
    "plt.show()\n",
    "\n",
    "# Plot the training and testing loss\n",
    "plt.figure(figsize=(10, 5))\n",
    "plt.plot(epochs, train_losses, label='Training Loss')\n",
    "#plt.plot(epochs, test_losses, label='Testing Loss')\n",
    "plt.xticks(epochs)\n",
    "plt.xlabel('Epoch')\n",
    "plt.ylabel('Loss')\n",
    "plt.legend()\n",
    "plt.show()\n"
   ]
  },
  {
   "cell_type": "code",
   "execution_count": null,
   "metadata": {},
   "outputs": [],
   "source": [
    "print(f\"y_hat is: {y_hat}\")\n",
    "print(f\"y is: {y}\")\n",
    "print(f\"y_hat shape: {y_hat.shape}\")\n",
    "print(f\"y shape: {y.shape}\")"
   ]
  },
  {
   "cell_type": "code",
   "execution_count": null,
   "metadata": {},
   "outputs": [],
   "source": [
    "from torchsummary import summary\n",
    "input_size=(3,224,224)\n",
    "summary(model,input_size = input_size)"
   ]
  }
 ],
 "metadata": {
  "kernelspec": {
   "display_name": "Python 3",
   "language": "python",
   "name": "python3"
  },
  "language_info": {
   "codemirror_mode": {
    "name": "ipython",
    "version": 3
   },
   "file_extension": ".py",
   "mimetype": "text/x-python",
   "name": "python",
   "nbconvert_exporter": "python",
   "pygments_lexer": "ipython3",
   "version": "3.11.4"
  },
  "orig_nbformat": 4
 },
 "nbformat": 4,
 "nbformat_minor": 2
}
